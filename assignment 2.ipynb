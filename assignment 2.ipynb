{
 "cells": [
  {
   "cell_type": "markdown",
   "metadata": {},
   "source": [
    "# TASK 1"
   ]
  },
  {
   "cell_type": "markdown",
   "metadata": {},
   "source": [
    "Q 1.1:- Write a Python Program to implement your own myreduce() function which works exactly like Python's built-in function reduce()"
   ]
  },
  {
   "cell_type": "code",
   "execution_count": 76,
   "metadata": {},
   "outputs": [],
   "source": [
    "def myreduce(fn, l):\n",
    "    l = list(l)\n",
    "    temp_1 = l[0]\n",
    "    for i in range(1,len(l)):\n",
    "        temp_1 = fn(temp_1,l[i])\n",
    "    return temp_1"
   ]
  },
  {
   "cell_type": "code",
   "execution_count": 102,
   "metadata": {},
   "outputs": [
    {
     "name": "stdout",
     "output_type": "stream",
     "text": [
      "247226         using myreduce() function\n",
      "247226         using reduce() function\n"
     ]
    }
   ],
   "source": [
    "lst = [8,5,63,52,8,7,5,28,52,48,50,88,101]\n",
    "k = lambda a,b:(a*2)+(b*2)\n",
    "print(myreduce(k,lst),'  using myreduce() function' ,sep = '       ')\n",
    "from functools import reduce\n",
    "print(reduce(k,lst),'  using reduce() function' ,sep = '       ')"
   ]
  },
  {
   "cell_type": "code",
   "execution_count": null,
   "metadata": {},
   "outputs": [],
   "source": []
  },
  {
   "cell_type": "markdown",
   "metadata": {},
   "source": [
    "Q 1.2:- Write a Python program to implement your own myfilter() function which works exactly like Python's built-in function filter("
   ]
  },
  {
   "cell_type": "code",
   "execution_count": 92,
   "metadata": {},
   "outputs": [],
   "source": [
    "def myfilter(fn, l):\n",
    "    l = list(l)\n",
    "    for i in range(0,len(l)):\n",
    "        if(fn(l[i])==True):\n",
    "            yield l[i]\n",
    "   \n",
    "           "
   ]
  },
  {
   "cell_type": "code",
   "execution_count": 101,
   "metadata": {},
   "outputs": [
    {
     "name": "stdout",
     "output_type": "stream",
     "text": [
      "[5, 85, 40, 85],     using myfilter() function       \n",
      "\n",
      "[5, 85, 40, 85],     using filter() function       "
     ]
    }
   ],
   "source": [
    "fn_2 = lambda num:num%5 == 0   \n",
    "lst_2 = [5,8,85,4,44,52,40,85,33,63,59]\n",
    "print(list(myfilter(fn_2,lst_2)), '     using myfilter() function' , end='       ', sep=',')\n",
    "print('\\n')\n",
    "print(list(filter(fn_2,lst_2)), '     using filter() function' , end='       ', sep=',')\n"
   ]
  },
  {
   "cell_type": "code",
   "execution_count": 100,
   "metadata": {},
   "outputs": [
    {
     "name": "stdout",
     "output_type": "stream",
     "text": [
      "['1', '6', '5', '1', '6', '5', '1', '6', '1', '6', '5', '1', '5', '3', '1'],     using myfilter() function       \n",
      "\n",
      "['1', '6', '5', '1', '6', '5', '1', '6', '1', '6', '5', '1', '5', '3', '1'],     using filter() function       "
     ]
    }
   ],
   "source": [
    "fn_2_1 = lambda i:i.isdigit()\n",
    "lst_2_1 = 'jhbcjhsdc jhsdc+1sd651c65sd161651sdc531sd'\n",
    "print(list(myfilter(fn_2_1,lst_2_1)), '     using myfilter() function' , end='       ', sep=',')\n",
    "print('\\n')\n",
    "print(list(filter(fn_2_1,lst_2_1)), '     using filter() function' , end='       ', sep=',')"
   ]
  },
  {
   "cell_type": "code",
   "execution_count": null,
   "metadata": {},
   "outputs": [],
   "source": []
  },
  {
   "cell_type": "markdown",
   "metadata": {},
   "source": [
    "Q no:2  Implement List comprehensions to produce the following lists.\n",
    "               Write List comprehensions to produce the following Lists\n"
   ]
  },
  {
   "cell_type": "code",
   "execution_count": 83,
   "metadata": {},
   "outputs": [
    {
     "data": {
      "text/plain": [
       "['A', 'C', 'A', 'D', 'G', 'I', 'L', 'D']"
      ]
     },
     "execution_count": 83,
     "metadata": {},
     "output_type": "execute_result"
    }
   ],
   "source": [
    "list_2 = 'ACADGILD'\n",
    "[j for j in list_2]"
   ]
  },
  {
   "cell_type": "code",
   "execution_count": 85,
   "metadata": {},
   "outputs": [
    {
     "data": {
      "text/plain": [
       "['x', 'xx', 'xxx', 'xxxx', 'y', 'yy', 'yyy', 'yyyy', 'z', 'zz', 'zzz', 'zzzz']"
      ]
     },
     "execution_count": 85,
     "metadata": {},
     "output_type": "execute_result"
    }
   ],
   "source": [
    "list_2_2 = ['x','y','z']\n",
    "[f*j for f in list_2_2 for j in range(1,5)]"
   ]
  },
  {
   "cell_type": "code",
   "execution_count": 74,
   "metadata": {},
   "outputs": [
    {
     "data": {
      "text/plain": [
       "['x', 'y', 'z', 'xx', 'yy', 'zz', 'xxx', 'yyy', 'zzz', 'xxxx', 'yyyy', 'zzzz']"
      ]
     },
     "execution_count": 74,
     "metadata": {},
     "output_type": "execute_result"
    }
   ],
   "source": [
    "list_2_3 = ['x','y','z']\n",
    "[f*j for j in range(1,5) for f in list_2_3]"
   ]
  },
  {
   "cell_type": "code",
   "execution_count": 117,
   "metadata": {},
   "outputs": [
    {
     "data": {
      "text/plain": [
       "[[2], [3], [4], [3], [4], [5], [4], [5], [6]]"
      ]
     },
     "execution_count": 117,
     "metadata": {},
     "output_type": "execute_result"
    }
   ],
   "source": [
    "list_2_4 = [2,3,4]\n",
    "[[f+j] for f in list_2_4  for j in range(0,3)]"
   ]
  },
  {
   "cell_type": "code",
   "execution_count": 121,
   "metadata": {},
   "outputs": [
    {
     "data": {
      "text/plain": [
       "[[2, 3, 4, 5], [3, 4, 5, 6], [4, 5, 6, 7], [5, 6, 7, 8]]"
      ]
     },
     "execution_count": 121,
     "metadata": {},
     "output_type": "execute_result"
    }
   ],
   "source": [
    "p = [2,3,4,5]\n",
    "[[f+j for f in p] for j in range(0,4)]\n"
   ]
  },
  {
   "cell_type": "code",
   "execution_count": 82,
   "metadata": {},
   "outputs": [
    {
     "data": {
      "text/plain": [
       "[(1, 1), (2, 1), (3, 1), (1, 2), (2, 2), (3, 2), (1, 3), (2, 3), (3, 3)]"
      ]
     },
     "execution_count": 82,
     "metadata": {},
     "output_type": "execute_result"
    }
   ],
   "source": [
    "[(f,j) for j in range(1,4) for f in range(1,4)]"
   ]
  },
  {
   "cell_type": "code",
   "execution_count": null,
   "metadata": {},
   "outputs": [],
   "source": []
  },
  {
   "cell_type": "markdown",
   "metadata": {},
   "source": [
    "Q : 3  Implement a function longestWord() that takes a list of words and returns the longest one.\n"
   ]
  },
  {
   "cell_type": "code",
   "execution_count": 20,
   "metadata": {},
   "outputs": [
    {
     "name": "stdout",
     "output_type": "stream",
     "text": [
      "enter the list of wordsthat takes a list of words and returns the longest one.\n"
     ]
    },
    {
     "data": {
      "text/plain": [
       "('returns', 'longest')"
      ]
     },
     "execution_count": 20,
     "metadata": {},
     "output_type": "execute_result"
    }
   ],
   "source": [
    "def longestword(words):\n",
    "    lst_3 = words.split(' ')\n",
    "    lst_3_1 = list(map(lambda z:len(z),lst_3))\n",
    "    lst_3_2 = []\n",
    "    max_size = max(lst_3_1)\n",
    "    for i in lst_3:\n",
    "        if (len(i) >= max_size):\n",
    "            lst_3_2.append(i)\n",
    "    return tuple(lst_3_2)\n",
    "        \n"
   ]
  },
  {
   "cell_type": "code",
   "execution_count": 22,
   "metadata": {},
   "outputs": [
    {
     "name": "stdout",
     "output_type": "stream",
     "text": [
      "enter the list of wordsthat takes a list of words and returns the longest one\n"
     ]
    },
    {
     "data": {
      "text/plain": [
       "('returns', 'longest')"
      ]
     },
     "execution_count": 22,
     "metadata": {},
     "output_type": "execute_result"
    }
   ],
   "source": [
    "str_3 = input('enter the list of words')\n",
    "longestword(str_3)         #there are more than 1  longest  word"
   ]
  },
  {
   "cell_type": "code",
   "execution_count": 25,
   "metadata": {},
   "outputs": [
    {
     "name": "stdout",
     "output_type": "stream",
     "text": [
      "enter the list of wordsenter the list of word\n"
     ]
    },
    {
     "data": {
      "text/plain": [
       "('enter',)"
      ]
     },
     "execution_count": 25,
     "metadata": {},
     "output_type": "execute_result"
    }
   ],
   "source": [
    "str_3_3 = input('enter the list of words')\n",
    "longestword(str_3_3) #only one longest word"
   ]
  },
  {
   "cell_type": "code",
   "execution_count": null,
   "metadata": {},
   "outputs": [],
   "source": []
  },
  {
   "cell_type": "markdown",
   "metadata": {},
   "source": [
    "# #TASK 2"
   ]
  },
  {
   "cell_type": "markdown",
   "metadata": {},
   "source": [
    "Q 1.1:- Write a Python Program(with class concepts) to find the area of the triangle using the below\n",
    "formula.\n",
    "area = (s*(s-a)*(s-b)*(s-c)) ** 0.5\n",
    "Function to take the length of the sides of triangle from user should be defined in the parent\n",
    "class and function to calculate the area should be defined in subclass."
   ]
  },
  {
   "cell_type": "code",
   "execution_count": 16,
   "metadata": {},
   "outputs": [
    {
     "name": "stdout",
     "output_type": "stream",
     "text": [
      "enter the side 14\n",
      "enter the side 25\n",
      "enter the side 37\n"
     ]
    }
   ],
   "source": [
    "class Triangle:\n",
    "    def __init__(self,a,b,c):\n",
    "        self.a = a\n",
    "        self.b = b\n",
    "        self.c = c\n",
    "class Area(Triangle):\n",
    "    def __init__(self,a,b,c):\n",
    "        super().__init__(a,b,c)\n",
    "    def area_calc(self):\n",
    "        s=(self.a + self.b + self.c)/2\n",
    "        aw = (s(s-self.a)(s-self.b)(s-self.c))/2\n",
    "        return aw\n",
    "\n",
    "a1 = float(input('enter the side 1'))\n",
    "b1 = float(input('enter the side 2'))\n",
    "c1 = float(input('enter the side 3'))\n",
    "\n",
    "t1 = Area(a1,b1,c1)\n"
   ]
  },
  {
   "cell_type": "code",
   "execution_count": 17,
   "metadata": {},
   "outputs": [
    {
     "ename": "TypeError",
     "evalue": "'float' object is not callable",
     "output_type": "error",
     "traceback": [
      "\u001b[1;31m---------------------------------------------------------------------------\u001b[0m",
      "\u001b[1;31mTypeError\u001b[0m                                 Traceback (most recent call last)",
      "\u001b[1;32m<ipython-input-17-cdd5bcf6ab97>\u001b[0m in \u001b[0;36m<module>\u001b[1;34m\u001b[0m\n\u001b[1;32m----> 1\u001b[1;33m \u001b[0mt1\u001b[0m\u001b[1;33m.\u001b[0m\u001b[0marea_calc\u001b[0m\u001b[1;33m(\u001b[0m\u001b[1;33m)\u001b[0m\u001b[1;33m\u001b[0m\u001b[1;33m\u001b[0m\u001b[0m\n\u001b[0m",
      "\u001b[1;32m<ipython-input-16-4f0f0560812b>\u001b[0m in \u001b[0;36marea_calc\u001b[1;34m(self)\u001b[0m\n\u001b[0;32m      9\u001b[0m     \u001b[1;32mdef\u001b[0m \u001b[0marea_calc\u001b[0m\u001b[1;33m(\u001b[0m\u001b[0mself\u001b[0m\u001b[1;33m)\u001b[0m\u001b[1;33m:\u001b[0m\u001b[1;33m\u001b[0m\u001b[1;33m\u001b[0m\u001b[0m\n\u001b[0;32m     10\u001b[0m         \u001b[0ms\u001b[0m\u001b[1;33m=\u001b[0m\u001b[1;33m(\u001b[0m\u001b[0mself\u001b[0m\u001b[1;33m.\u001b[0m\u001b[0ma\u001b[0m \u001b[1;33m+\u001b[0m \u001b[0mself\u001b[0m\u001b[1;33m.\u001b[0m\u001b[0mb\u001b[0m \u001b[1;33m+\u001b[0m \u001b[0mself\u001b[0m\u001b[1;33m.\u001b[0m\u001b[0mc\u001b[0m\u001b[1;33m)\u001b[0m\u001b[1;33m/\u001b[0m\u001b[1;36m2\u001b[0m\u001b[1;33m\u001b[0m\u001b[1;33m\u001b[0m\u001b[0m\n\u001b[1;32m---> 11\u001b[1;33m         \u001b[0maw\u001b[0m \u001b[1;33m=\u001b[0m \u001b[1;33m(\u001b[0m\u001b[0ms\u001b[0m\u001b[1;33m(\u001b[0m\u001b[0ms\u001b[0m\u001b[1;33m-\u001b[0m\u001b[0mself\u001b[0m\u001b[1;33m.\u001b[0m\u001b[0ma\u001b[0m\u001b[1;33m)\u001b[0m\u001b[1;33m(\u001b[0m\u001b[0ms\u001b[0m\u001b[1;33m-\u001b[0m\u001b[0mself\u001b[0m\u001b[1;33m.\u001b[0m\u001b[0mb\u001b[0m\u001b[1;33m)\u001b[0m\u001b[1;33m(\u001b[0m\u001b[0ms\u001b[0m\u001b[1;33m-\u001b[0m\u001b[0mself\u001b[0m\u001b[1;33m.\u001b[0m\u001b[0mc\u001b[0m\u001b[1;33m)\u001b[0m\u001b[1;33m)\u001b[0m\u001b[1;33m/\u001b[0m\u001b[1;36m2\u001b[0m\u001b[1;33m\u001b[0m\u001b[1;33m\u001b[0m\u001b[0m\n\u001b[0m\u001b[0;32m     12\u001b[0m         \u001b[1;32mreturn\u001b[0m \u001b[0maw\u001b[0m\u001b[1;33m\u001b[0m\u001b[1;33m\u001b[0m\u001b[0m\n\u001b[0;32m     13\u001b[0m \u001b[1;33m\u001b[0m\u001b[0m\n",
      "\u001b[1;31mTypeError\u001b[0m: 'float' object is not callable"
     ]
    }
   ],
   "source": [
    "t1.area_calc()\n"
   ]
  },
  {
   "cell_type": "code",
   "execution_count": null,
   "metadata": {},
   "outputs": [],
   "source": []
  },
  {
   "cell_type": "code",
   "execution_count": null,
   "metadata": {},
   "outputs": [],
   "source": []
  },
  {
   "cell_type": "code",
   "execution_count": null,
   "metadata": {},
   "outputs": [],
   "source": []
  },
  {
   "cell_type": "markdown",
   "metadata": {},
   "source": [
    "Q 1.2 :-Write a function filter_long_words() that takes a list of words and an integer n and returns the list\n",
    "of words that are longer than n"
   ]
  },
  {
   "cell_type": "code",
   "execution_count": 34,
   "metadata": {},
   "outputs": [
    {
     "name": "stdout",
     "output_type": "stream",
     "text": [
      "enter the stringnou camp is temple of football\n",
      "enter no4\n"
     ]
    },
    {
     "data": {
      "text/plain": [
       "['temple', 'football']"
      ]
     },
     "execution_count": 34,
     "metadata": {},
     "output_type": "execute_result"
    }
   ],
   "source": [
    "def filter_long_words(string,n):\n",
    "    list_2 = list(filter(lambda z: len(z) > n , string))\n",
    "    return list_2\n",
    "\n",
    "\n",
    "filter_long_words(input('enter the string').split(),int(input('enter no')))"
   ]
  },
  {
   "cell_type": "code",
   "execution_count": null,
   "metadata": {},
   "outputs": [],
   "source": []
  },
  {
   "cell_type": "markdown",
   "metadata": {},
   "source": [
    "Q 2.1:  Write a Python program using function concept that maps list of words into a list of integers\n",
    "representing the lengths of the corresponding words."
   ]
  },
  {
   "cell_type": "code",
   "execution_count": 45,
   "metadata": {},
   "outputs": [
    {
     "name": "stdout",
     "output_type": "stream",
     "text": [
      "enter the string DDS ADCD AS D ASD CSAFDASCFD\n"
     ]
    },
    {
     "data": {
      "text/plain": [
       "[3, 4, 2, 1, 3, 10]"
      ]
     },
     "execution_count": 45,
     "metadata": {},
     "output_type": "execute_result"
    }
   ],
   "source": [
    "def mymap(string):\n",
    "    l = []\n",
    "    for i in string:\n",
    "        l.append(len(i))\n",
    "    return l\n",
    "    \n",
    "mymap(input('enter the string').split())\n",
    "    "
   ]
  },
  {
   "cell_type": "code",
   "execution_count": 46,
   "metadata": {},
   "outputs": [
    {
     "name": "stdout",
     "output_type": "stream",
     "text": [
      "enter string DDS ADCD AS D ASD CSAFDASCFD\n"
     ]
    },
    {
     "data": {
      "text/plain": [
       "[3, 4, 2, 1, 3, 10]"
      ]
     },
     "execution_count": 46,
     "metadata": {},
     "output_type": "execute_result"
    }
   ],
   "source": [
    "#USING MAP() FUNCTION FOR THE SAME\n",
    "list(map(lambda z: len(z),input('enter string').split()))"
   ]
  },
  {
   "cell_type": "code",
   "execution_count": null,
   "metadata": {},
   "outputs": [],
   "source": []
  },
  {
   "cell_type": "markdown",
   "metadata": {},
   "source": [
    "Q 2.2:- Write a Python function which takes a character (i.e. a string of length 1) and returns True if it is\n",
    "a vowel, False otherwise.\n"
   ]
  },
  {
   "cell_type": "code",
   "execution_count": 67,
   "metadata": {},
   "outputs": [
    {
     "name": "stdout",
     "output_type": "stream",
     "text": [
      "enter character    e\n"
     ]
    },
    {
     "data": {
      "text/plain": [
       "True"
      ]
     },
     "execution_count": 67,
     "metadata": {},
     "output_type": "execute_result"
    }
   ],
   "source": [
    "def check_vowel(character):\n",
    "    if(character in ['a','e','i','o','u']):\n",
    "            return True\n",
    "    else:\n",
    "        return False\n",
    "    \n",
    "check_vowel(input('enter character    '))   "
   ]
  },
  {
   "cell_type": "code",
   "execution_count": null,
   "metadata": {},
   "outputs": [],
   "source": []
  }
 ],
 "metadata": {
  "kernelspec": {
   "display_name": "Python 3",
   "language": "python",
   "name": "python3"
  },
  "language_info": {
   "codemirror_mode": {
    "name": "ipython",
    "version": 3
   },
   "file_extension": ".py",
   "mimetype": "text/x-python",
   "name": "python",
   "nbconvert_exporter": "python",
   "pygments_lexer": "ipython3",
   "version": "3.7.1"
  }
 },
 "nbformat": 4,
 "nbformat_minor": 2
}
